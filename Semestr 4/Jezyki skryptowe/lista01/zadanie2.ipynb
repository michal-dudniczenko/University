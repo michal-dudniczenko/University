{
 "cells": [
  {
   "cell_type": "code",
   "execution_count": 1,
   "id": "3c2e4db6-1658-4e76-94d1-ded5fc91ca6b",
   "metadata": {},
   "outputs": [
    {
     "name": "stdout",
     "output_type": "stream",
     "text": [
      "Hello, World!\n"
     ]
    }
   ],
   "source": [
    "name = \"World\"\n",
    "print(f\"Hello, {name}!\")"
   ]
  },
  {
   "cell_type": "markdown",
   "id": "837aa072-65a3-4139-af69-aa9fb3e67216",
   "metadata": {},
   "source": [
    "# Moja aplikacja w języku Python\n",
    " Oto mój pierwszy notes Jupyter.\n"
   ]
  }
 ],
 "metadata": {
  "kernelspec": {
   "display_name": "Python 3 (ipykernel)",
   "language": "python",
   "name": "python3"
  },
  "language_info": {
   "codemirror_mode": {
    "name": "ipython",
    "version": 3
   },
   "file_extension": ".py",
   "mimetype": "text/x-python",
   "name": "python",
   "nbconvert_exporter": "python",
   "pygments_lexer": "ipython3",
   "version": "3.12.2"
  }
 },
 "nbformat": 4,
 "nbformat_minor": 5
}
